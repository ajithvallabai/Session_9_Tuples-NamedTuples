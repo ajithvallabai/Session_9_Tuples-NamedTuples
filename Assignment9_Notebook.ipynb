{
 "cells": [
  {
   "cell_type": "code",
   "execution_count": 4,
   "id": "50c96de6",
   "metadata": {},
   "outputs": [],
   "source": [
    "import test_session9"
   ]
  },
  {
   "cell_type": "markdown",
   "id": "778ae8f8",
   "metadata": {},
   "source": [
    "### Task 1 , 5 tests"
   ]
  },
  {
   "cell_type": "code",
   "execution_count": 2,
   "id": "b181e1ee",
   "metadata": {},
   "outputs": [
    {
     "name": "stdout",
     "output_type": "stream",
     "text": [
      "For number  100 profiles length is  100\n",
      "For number  5000 profiles length is  5000\n",
      "100 is faster in execution\n"
     ]
    }
   ],
   "source": [
    "test_session9.test_tuple_profile_generation_function()"
   ]
  },
  {
   "cell_type": "code",
   "execution_count": 5,
   "id": "3e049749",
   "metadata": {},
   "outputs": [
    {
     "name": "stdout",
     "output_type": "stream",
     "text": [
      "Largest blood group for seed 0 is  AB+\n",
      "oldes person age for seed 0 is  116\n"
     ]
    }
   ],
   "source": [
    "test_session9.test_tuple_result()"
   ]
  },
  {
   "cell_type": "code",
   "execution_count": 6,
   "id": "f8d5de00",
   "metadata": {},
   "outputs": [
    {
     "name": "stdout",
     "output_type": "stream",
     "text": [
      "Both result and profile list are instance of named tuples\n"
     ]
    }
   ],
   "source": [
    "test_session9.test_namedtuples()"
   ]
  },
  {
   "cell_type": "code",
   "execution_count": 8,
   "id": "d5dac8b9",
   "metadata": {},
   "outputs": [
    {
     "name": "stdout",
     "output_type": "stream",
     "text": [
      "Both result and profile list has specified fields as per requirements\n"
     ]
    }
   ],
   "source": [
    "test_session9.test_tuple_fields()"
   ]
  },
  {
   "cell_type": "code",
   "execution_count": 9,
   "id": "3e45ed4f",
   "metadata": {},
   "outputs": [
    {
     "name": "stdout",
     "output_type": "stream",
     "text": [
      "Type error is raised for a string input to number of profiles\n"
     ]
    }
   ],
   "source": [
    "test_session9.test_input_argument_tuple()"
   ]
  },
  {
   "cell_type": "markdown",
   "id": "678af911",
   "metadata": {},
   "source": [
    "### Test 2, 6 tests - Dict"
   ]
  },
  {
   "cell_type": "code",
   "execution_count": 10,
   "id": "c0201ad1",
   "metadata": {},
   "outputs": [
    {
     "name": "stdout",
     "output_type": "stream",
     "text": [
      "For number  100 profiles length is  100\n",
      "For number  5000 profiles length is  5000\n",
      "100 is faster in execution\n"
     ]
    }
   ],
   "source": [
    "test_session9.test_dict_profile_generation_function()"
   ]
  },
  {
   "cell_type": "code",
   "execution_count": 11,
   "id": "54daaa47",
   "metadata": {},
   "outputs": [
    {
     "name": "stdout",
     "output_type": "stream",
     "text": [
      "largest_blood_group and oldest_person_age is mataching for seed 0 execution\n"
     ]
    }
   ],
   "source": [
    "test_session9.test_dict_result()"
   ]
  },
  {
   "cell_type": "code",
   "execution_count": 12,
   "id": "a4ee5bdf",
   "metadata": {},
   "outputs": [
    {
     "name": "stdout",
     "output_type": "stream",
     "text": [
      "Both result and profile list are instance of dictionary\n"
     ]
    }
   ],
   "source": [
    "test_session9.test_dict()"
   ]
  },
  {
   "cell_type": "code",
   "execution_count": 13,
   "id": "69dcd6dd",
   "metadata": {},
   "outputs": [
    {
     "name": "stdout",
     "output_type": "stream",
     "text": [
      "Both result and profile list has specified keys as per requirements\n"
     ]
    }
   ],
   "source": [
    "test_session9.test_dict_fields()"
   ]
  },
  {
   "cell_type": "code",
   "execution_count": 14,
   "id": "010780b0",
   "metadata": {},
   "outputs": [
    {
     "name": "stdout",
     "output_type": "stream",
     "text": [
      "Type error is raised for a string input to number of profiles\n"
     ]
    }
   ],
   "source": [
    "test_session9.test_input_argument_dict()"
   ]
  },
  {
   "cell_type": "code",
   "execution_count": 15,
   "id": "d63b364f",
   "metadata": {},
   "outputs": [
    {
     "name": "stdout",
     "output_type": "stream",
     "text": [
      "This test takes few minitues\n",
      "Average Time taken by tuples for processing 0.02524607999999944\n",
      "Average Time taken by Dictionary for processing 0.02529883999998219\n",
      "Tuples are faster than dictionary\n"
     ]
    }
   ],
   "source": [
    "test_session9.test_race_tuples_dict()"
   ]
  },
  {
   "cell_type": "markdown",
   "id": "79dfaa89",
   "metadata": {},
   "source": [
    "### Task 3 - 11 test"
   ]
  },
  {
   "cell_type": "code",
   "execution_count": 16,
   "id": "19fae2d7",
   "metadata": {},
   "outputs": [
    {
     "name": "stdout",
     "output_type": "stream",
     "text": [
      "Open, High, Close results are matching for random seed 0\n"
     ]
    }
   ],
   "source": [
    "test_session9.test_stock_result()"
   ]
  },
  {
   "cell_type": "code",
   "execution_count": 17,
   "id": "321da6d7",
   "metadata": {},
   "outputs": [
    {
     "name": "stdout",
     "output_type": "stream",
     "text": [
      "Result is a instance of named tuple\n"
     ]
    }
   ],
   "source": [
    "test_session9.test_namedtuples_stock()"
   ]
  },
  {
   "cell_type": "code",
   "execution_count": 18,
   "id": "a2ebf22d",
   "metadata": {},
   "outputs": [
    {
     "name": "stdout",
     "output_type": "stream",
     "text": [
      "Function is generating specified number of profiles properly\n"
     ]
    }
   ],
   "source": [
    "test_session9.test_stock_profile_generation_function()"
   ]
  },
  {
   "cell_type": "code",
   "execution_count": 19,
   "id": "bd8beb01",
   "metadata": {},
   "outputs": [
    {
     "name": "stdout",
     "output_type": "stream",
     "text": [
      "Type error is raised for a string input to number of profiles and when given to seed value\n"
     ]
    }
   ],
   "source": [
    "test_session9.test_input_argument_stock()"
   ]
  },
  {
   "cell_type": "code",
   "execution_count": 20,
   "id": "c6823f49",
   "metadata": {},
   "outputs": [
    {
     "name": "stdout",
     "output_type": "stream",
     "text": [
      "Result contains desired number of fields as per requirement\n"
     ]
    }
   ],
   "source": [
    "test_session9.test_stock_fields_result()"
   ]
  },
  {
   "cell_type": "code",
   "execution_count": 21,
   "id": "ebe9e65c",
   "metadata": {},
   "outputs": [
    {
     "name": "stdout",
     "output_type": "stream",
     "text": [
      "Company stock contains fields as per requirement\n"
     ]
    }
   ],
   "source": [
    "test_session9.test_stock_fields_company_stock_list()"
   ]
  },
  {
   "cell_type": "code",
   "execution_count": 22,
   "id": "e3e4dd58",
   "metadata": {},
   "outputs": [
    {
     "name": "stdout",
     "output_type": "stream",
     "text": [
      "Company Stocks is a instance of named tuple\n"
     ]
    }
   ],
   "source": [
    "test_session9.test_namedtuples_company_stock_list()"
   ]
  },
  {
   "cell_type": "code",
   "execution_count": 23,
   "id": "1ddad625",
   "metadata": {},
   "outputs": [
    {
     "name": "stdout",
     "output_type": "stream",
     "text": [
      "High is higher than open for seed 0\n"
     ]
    }
   ],
   "source": [
    "test_session9.test_stockfieldsresult()"
   ]
  },
  {
   "cell_type": "code",
   "execution_count": 24,
   "id": "b85003ea",
   "metadata": {},
   "outputs": [
    {
     "name": "stdout",
     "output_type": "stream",
     "text": [
      "Input for n=10 is running in less time than input of 5000\n"
     ]
    }
   ],
   "source": [
    "test_session9.test_stock_time()"
   ]
  },
  {
   "cell_type": "code",
   "execution_count": 25,
   "id": "4c856f6e",
   "metadata": {},
   "outputs": [
    {
     "name": "stdout",
     "output_type": "stream",
     "text": [
      "Open , High, Close values are not same and they are ranodom\n"
     ]
    }
   ],
   "source": [
    "test_session9.test_stockfields_result()"
   ]
  },
  {
   "cell_type": "code",
   "execution_count": 26,
   "id": "5279c076",
   "metadata": {},
   "outputs": [
    {
     "name": "stdout",
     "output_type": "stream",
     "text": [
      "Named tuple contains doc strings\n"
     ]
    }
   ],
   "source": [
    "test_session9.test_stockdocstring()"
   ]
  }
 ],
 "metadata": {
  "kernelspec": {
   "display_name": "Python 3 (ipykernel)",
   "language": "python",
   "name": "python3"
  },
  "language_info": {
   "codemirror_mode": {
    "name": "ipython",
    "version": 3
   },
   "file_extension": ".py",
   "mimetype": "text/x-python",
   "name": "python",
   "nbconvert_exporter": "python",
   "pygments_lexer": "ipython3",
   "version": "3.8.10"
  }
 },
 "nbformat": 4,
 "nbformat_minor": 5
}
